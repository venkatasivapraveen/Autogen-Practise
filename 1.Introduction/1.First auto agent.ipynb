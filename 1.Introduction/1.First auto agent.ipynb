{
 "cells": [
  {
   "cell_type": "code",
   "execution_count": 1,
   "metadata": {},
   "outputs": [],
   "source": [
    "from autogen_agentchat.agents import AssistantAgent\n",
    "from autogen_ext.models.openai import OpenAIChatCompletionClient\n",
    "from dotenv import load_dotenv\n",
    "import os\n",
    "\n",
    "load_dotenv()\n",
    "\n",
    "\n",
    "api_key = os.getenv(\"OPENAI_API_KEY\")"
   ]
  },
  {
   "cell_type": "code",
   "execution_count": 2,
   "metadata": {},
   "outputs": [],
   "source": [
    "model_client = OpenAIChatCompletionClient(model='gpt-4o',api_key=api_key)\n"
   ]
  },
  {
   "cell_type": "code",
   "execution_count": 3,
   "metadata": {},
   "outputs": [],
   "source": [
    "agent_1 = AssistantAgent(name='my_assistant', model_client=model_client)"
   ]
  },
  {
   "cell_type": "code",
   "execution_count": 4,
   "metadata": {},
   "outputs": [
    {
     "name": "stdout",
     "output_type": "stream",
     "text": [
      "messages=[TextMessage(id='b19698fa-d081-4c2f-b482-7b223afd0b5b', source='user', models_usage=None, metadata={}, created_at=datetime.datetime(2025, 7, 10, 6, 7, 57, 363768, tzinfo=datetime.timezone.utc), content='Hello, how are you?', type='TextMessage'), TextMessage(id='2b1b6e0c-3216-4a35-aa84-328fa1b95447', source='my_assistant', models_usage=RequestUsage(prompt_tokens=42, completion_tokens=28), metadata={}, created_at=datetime.datetime(2025, 7, 10, 6, 8, 1, 592423, tzinfo=datetime.timezone.utc), content=\"Hello! I'm an AI, so I don't have feelings, but I'm here and ready to help you. How can I assist you today?\", type='TextMessage')] stop_reason=None\n"
     ]
    }
   ],
   "source": [
    "result = await agent_1.run(task='Hello, how are you?')\n",
    "print(result)"
   ]
  },
  {
   "cell_type": "markdown",
   "metadata": {},
   "source": [
    "messages=[TextMessage(id='b19698fa-d081-4c2f-b482-7b223afd0b5b', source='user', models_usage=None, metadata={}, created_at=datetime.datetime(2025, 7, 10, 6, 7, 57, 363768, tzinfo=datetime.timezone.utc), content='Hello, how are you?', type='TextMessage'), TextMessage(id='2b1b6e0c-3216-4a35-aa84-328fa1b95447', source='my_assistant', models_usage=RequestUsage(prompt_tokens=42, completion_tokens=28), metadata={}, created_at=datetime.datetime(2025, 7, 10, 6, 8, 1, 592423, tzinfo=datetime.timezone.utc), content=\"Hello! I'm an AI, so I don't have feelings, but I'm here and ready to help you. How can I assist you today?\", type='TextMessage')] stop_reason=None"
   ]
  },
  {
   "cell_type": "code",
   "execution_count": null,
   "metadata": {},
   "outputs": [],
   "source": []
  },
  {
   "cell_type": "code",
   "execution_count": null,
   "metadata": {},
   "outputs": [],
   "source": []
  }
 ],
 "metadata": {
  "kernelspec": {
   "display_name": ".venv",
   "language": "python",
   "name": "python3"
  },
  "language_info": {
   "codemirror_mode": {
    "name": "ipython",
    "version": 3
   },
   "file_extension": ".py",
   "mimetype": "text/x-python",
   "name": "python",
   "nbconvert_exporter": "python",
   "pygments_lexer": "ipython3",
   "version": "3.11.5"
  }
 },
 "nbformat": 4,
 "nbformat_minor": 2
}
